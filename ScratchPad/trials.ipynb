{
 "cells": [
  {
   "cell_type": "code",
   "execution_count": 23,
   "id": "e4df833f",
   "metadata": {},
   "outputs": [],
   "source": [
    "# Definition for singly-linked list.\n",
    "from typing import Optional\n",
    "class ListNode:\n",
    "    def __init__(self, val=0, next=None):\n",
    "        self.val = val\n",
    "        self.next = next\n",
    "class Solution:\n",
    "    def __init__(self):\n",
    "        # self.output_LL_head = ListNode(0)\n",
    "        # self.current_output_node = self.output_LL_head\n",
    "        self.carry = False\n",
    "        # self.output = \n",
    "\n",
    "    def addTwoNumbers(self, l1: Optional[ListNode], l2: Optional[ListNode]) -> Optional[ListNode]:\n",
    "        # try: \n",
    "        #     self.output\n",
    "        # except:\n",
    "        #     pass\n",
    "        sum = 1 if self.carry else 0\n",
    "        if l1:\n",
    "            sum+= l1.val\n",
    "            l1=l1.next\n",
    "        if l2:\n",
    "            sum+= l2.val\n",
    "            l2=l2.next\n",
    "        if sum>9:\n",
    "            item = sum-10\n",
    "            self.carry = True\n",
    "        else:\n",
    "            self.carry = False\n",
    "            item = sum\n",
    "        new_node = ListNode(item)\n",
    "        if l1 or l2 or self.carry:\n",
    "            new_node.next = self.addTwoNumbers(l1 = l1, l2 = l2)\n",
    "        else:\n",
    "            new_node.next = None\n",
    "        return new_node"
   ]
  },
  {
   "cell_type": "code",
   "execution_count": 24,
   "id": "e2f77081",
   "metadata": {},
   "outputs": [],
   "source": [
    "def linked_list_maker(input_list):\n",
    "    LL_head = ListNode(input_list[0])\n",
    "    current_node = LL_head\n",
    "    for item in input_list[1:]:\n",
    "        # Create a new node\n",
    "        new_node = ListNode(item)\n",
    "        # Link the current node to the new node\n",
    "        current_node.next = new_node\n",
    "        # Move the current node pointer forward\n",
    "        current_node = new_node\n",
    "    return LL_head\n",
    "\n",
    "def linked_list_printer(head):\n",
    "    current = head\n",
    "    while current:\n",
    "        print(current.val, end=\" -> \")\n",
    "        current = current.next\n",
    "    print(\"None\")"
   ]
  },
  {
   "cell_type": "code",
   "execution_count": 30,
   "id": "228bfd1d",
   "metadata": {},
   "outputs": [
    {
     "name": "stdout",
     "output_type": "stream",
     "text": [
      "0 -> None\n",
      "0 -> None\n"
     ]
    }
   ],
   "source": [
    "# l1 = [9,9,9,9,9,9,9]\n",
    "# l2 = [9,9,9,9]\n",
    "l1 = [0]\n",
    "l2 = [0]\n",
    "L_1 = linked_list_maker(l1)\n",
    "linked_list_printer(L_1)\n",
    "L_2 = linked_list_maker(l2)\n",
    "linked_list_printer(L_2)"
   ]
  },
  {
   "cell_type": "code",
   "execution_count": null,
   "id": "25ef6faf",
   "metadata": {},
   "outputs": [
    {
     "name": "stdout",
     "output_type": "stream",
     "text": [
      "0 -> None\n"
     ]
    }
   ],
   "source": [
    "sol_obj = Solution()\n",
    "sol_head = sol_obj.addTwoNumbers(L_1, L_2)\n",
    "linked_list_printer(sol_head)"
   ]
  },
  {
   "cell_type": "code",
   "execution_count": 3,
   "id": "7287598e",
   "metadata": {},
   "outputs": [],
   "source": [
    "l1 = ListNode(val=2, next=ListNode(val=4, next=ListNode(val=3, next=None)))\n",
    "l2 = ListNode(val=5, next=ListNode(val=6, next=ListNode(val=4, next=None)))"
   ]
  },
  {
   "cell_type": "code",
   "execution_count": null,
   "id": "9775a263",
   "metadata": {},
   "outputs": [
    {
     "name": "stdout",
     "output_type": "stream",
     "text": [
      "2 -> 4 -> 3 -> None\n",
      "5 -> 6 -> 4 -> None\n"
     ]
    }
   ],
   "source": [
    "\n"
   ]
  },
  {
   "cell_type": "code",
   "execution_count": null,
   "id": "ad115777",
   "metadata": {},
   "outputs": [
    {
     "name": "stdout",
     "output_type": "stream",
     "text": [
      "2 -> 4 -> 3 -> None\n",
      "5 -> 6 -> 4 -> None\n"
     ]
    }
   ],
   "source": []
  },
  {
   "cell_type": "code",
   "execution_count": null,
   "id": "bf03adc9",
   "metadata": {},
   "outputs": [
    {
     "data": {
      "text/plain": [
       "[7, 0, 8]"
      ]
     },
     "execution_count": 17,
     "metadata": {},
     "output_type": "execute_result"
    }
   ],
   "source": []
  },
  {
   "cell_type": "code",
   "execution_count": 6,
   "id": "4bee4e15",
   "metadata": {},
   "outputs": [
    {
     "name": "stdout",
     "output_type": "stream",
     "text": [
      "2\n",
      "4\n",
      "3\n",
      "5\n",
      "6\n",
      "4\n"
     ]
    }
   ],
   "source": [
    "while l1:\n",
    "    print(l1.val)\n",
    "    l1 = l1.next\n",
    "while l2:\n",
    "    print(l2.val)\n",
    "    l2 = l2.next"
   ]
  }
 ],
 "metadata": {
  "kernelspec": {
   "display_name": "base",
   "language": "python",
   "name": "python3"
  },
  "language_info": {
   "codemirror_mode": {
    "name": "ipython",
    "version": 3
   },
   "file_extension": ".py",
   "mimetype": "text/x-python",
   "name": "python",
   "nbconvert_exporter": "python",
   "pygments_lexer": "ipython3",
   "version": "3.12.11"
  }
 },
 "nbformat": 4,
 "nbformat_minor": 5
}
