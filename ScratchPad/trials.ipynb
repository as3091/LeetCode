{
 "cells": [
  {
   "cell_type": "code",
   "execution_count": 64,
   "id": "7ed1e248",
   "metadata": {},
   "outputs": [
    {
     "name": "stdout",
     "output_type": "stream",
     "text": [
      "{'a': 0} 0 0 0 a \n",
      "\n",
      "{'a': 0, 'b': 1} 0 0 1 b \n",
      "\n",
      "{'a': 0, 'b': 2} 1 2 2 b \n",
      "\n",
      "{'a': 3, 'b': 2} 3 1 3 a \n",
      "\n",
      "3 \t abba\n"
     ]
    }
   ],
   "source": [
    "# %%timeit\n",
    "# from typing import Optional\n",
    "from pprint import pprint\n",
    "class Solution:\n",
    "    def lengthOfLongestSubstring(self, s: str) -> int:\n",
    "        chars = {}\n",
    "        max_len = 0\n",
    "        current_index=0\n",
    "        start_index = 0\n",
    "        for current_index,char in enumerate(s):\n",
    "            # char = split_s[index]\n",
    "            # print(current_chars,char,max_len)\n",
    "            if char in chars:\n",
    "                if start_index==0:\n",
    "                    max_len = current_index - 1\n",
    "                    start_index +=1\n",
    "                else:\n",
    "                    start_index = chars[char]\n",
    "                max_len = max(current_index-start_index,max_len)\n",
    "                start_index = chars[char]+1\n",
    "            chars[char] = current_index\n",
    "            # current_index+=1\n",
    "            print(chars,max_len,start_index,current_index,char,\"\\n\")\n",
    "        \n",
    "        if start_index==0:\n",
    "            return len(s)\n",
    "        else:\n",
    "            if current_index==start_index:\n",
    "                curr_len =  current_index-start_index\n",
    "            else:\n",
    "                curr_len =  current_index-start_index+1\n",
    "        return max(curr_len,max_len)\n",
    "\n",
    "s_list =  [\"abba\"]\n",
    "# \"cdd\" ,\"abba\",\"dvdf\"]\n",
    "# s_list =  [ \"abcabcbb\", \"dvdf\", \"a\", \"cdd\",  \"abba\",  \" \",\"\",\"au\"] \n",
    "obj = Solution()\n",
    "for s in s_list:\n",
    "    # print(s)\n",
    "    print(obj.lengthOfLongestSubstring(s),\"\\t\",s)\n",
    "# obj.lengthOfLongestSubstring(s)"
   ]
  },
  {
   "cell_type": "code",
   "execution_count": 4,
   "id": "13e76fb9",
   "metadata": {},
   "outputs": [
    {
     "data": {
      "text/plain": [
       "[(0, ' ')]"
      ]
     },
     "execution_count": 4,
     "metadata": {},
     "output_type": "execute_result"
    }
   ],
   "source": [
    "list(enumerate(\" \"))"
   ]
  },
  {
   "cell_type": "code",
   "execution_count": 77,
   "id": "af6c7500",
   "metadata": {},
   "outputs": [
    {
     "name": "stdout",
     "output_type": "stream",
     "text": [
      "5.61 μs ± 349 ns per loop (mean ± std. dev. of 7 runs, 100,000 loops each)\n"
     ]
    }
   ],
   "source": [
    "%%timeit\n",
    "# from typing import Optional\n",
    "\n",
    "class Solution:\n",
    "    def lengthOfLongestSubstring(self, s: str) -> int:\n",
    "        chars = {}\n",
    "        max_len = 0\n",
    "        current_index=0\n",
    "        start_index = 0\n",
    "        for char in s:\n",
    "            # char = split_s[index]\n",
    "            # print(current_chars,char,max_len)\n",
    "            if char in chars:\n",
    "                start_index = chars[char]+1\n",
    "                max_len = max(current_index-start_index,max_len)\n",
    "            chars[char] = current_index\n",
    "            current_index+=1\n",
    "        return max(current_index-start_index,max_len)\n",
    "s = \"dvdf\"\n",
    "obj = Solution()\n",
    "# print(obj.lengthOfLongestSubstring(s))\n",
    "obj.lengthOfLongestSubstring(s)"
   ]
  },
  {
   "cell_type": "code",
   "execution_count": null,
   "id": "ff78aa6f",
   "metadata": {},
   "outputs": [
    {
     "name": "stdout",
     "output_type": "stream",
     "text": [
      "5.23 μs ± 270 ns per loop (mean ± std. dev. of 7 runs, 100,000 loops each)\n"
     ]
    }
   ],
   "source": [
    "%%timeit\n",
    "# from typing import Optional\n",
    "\n",
    "class Solution:\n",
    "    def lengthOfLongestSubstring(self, s: str) -> int:\n",
    "        chars = {}\n",
    "        max_len = 0\n",
    "        current_index=0\n",
    "        start_index = 0\n",
    "        for char in s:\n",
    "            # char = split_s[index]\n",
    "            # print(current_chars,char,max_len)\n",
    "            if char in chars:\n",
    "                start_index = chars[char]+1\n",
    "                max_len = max(current_index-start_index,max_len)\n",
    "            chars[char] = current_index\n",
    "            current_index+=1\n",
    "        return max(current_index-start_index,max_len)\n",
    "s = \"dvdf\"\n",
    "obj = Solution()\n",
    "# print(obj.lengthOfLongestSubstring(s))\n",
    "obj.lengthOfLongestSubstring(s)"
   ]
  },
  {
   "cell_type": "code",
   "execution_count": 75,
   "id": "aa9ca771",
   "metadata": {},
   "outputs": [
    {
     "name": "stdout",
     "output_type": "stream",
     "text": [
      "6.08 μs ± 415 ns per loop (mean ± std. dev. of 7 runs, 100,000 loops each)\n"
     ]
    }
   ],
   "source": [
    "%%timeit\n",
    "# from typing import Optional\n",
    "\n",
    "class Solution:\n",
    "    def lengthOfLongestSubstring(self, s: str) -> int:\n",
    "        chars = {}\n",
    "        max_len = 0\n",
    "        current_index=0\n",
    "        # start_index = 0\n",
    "        for char in s:\n",
    "            # char = split_s[index]\n",
    "            # print(current_chars,char,max_len)\n",
    "            try:\n",
    "                start_index = chars[char]+1\n",
    "                max_len = max(current_index-start_index,max_len)\n",
    "            except KeyError:\n",
    "                pass\n",
    "            chars[char] = current_index\n",
    "            current_index+=1\n",
    "        return max(current_index-start_index,max_len)\n",
    "s = \"dvdf\"\n",
    "obj = Solution()\n",
    "# print(obj.lengthOfLongestSubstring(s))\n",
    "obj.lengthOfLongestSubstring(s)"
   ]
  },
  {
   "cell_type": "code",
   "execution_count": null,
   "id": "3eab4260",
   "metadata": {},
   "outputs": [],
   "source": [
    "# from typing import Optional\n",
    "class Solution:\n",
    "    def lengthOfLongestSubstring(self, s: str) -> int:\n",
    "        current_chars = {}\n",
    "        max_len = 0\n",
    "        current_index=0\n",
    "        # split_s = list(s)\n",
    "        # current_len=0\n",
    "        for char in s:\n",
    "            # char = split_s[index]\n",
    "            # print(current_chars,char,max_len)\n",
    "            try:\n",
    "                char_index = current_chars[char]\n",
    "                current_len = len(current_chars)\n",
    "                i=0\n",
    "                # new_keys = list(current_chars.keys())[char_index+1:]\n",
    "                new_dict = {}\n",
    "                # {k: a[k] for k in keys if k in a}\n",
    "                current_keys = list(current_chars.keys())\n",
    "                max_len = max(max_len,len(current_keys))\n",
    "                for key in current_keys[char_index+1:]:\n",
    "                    new_dict[key] = i\n",
    "                    i+=1\n",
    "                current_chars = new_dict\n",
    "            except KeyError:\n",
    "                current_chars[char] = current_index\n",
    "                current_index+=1\n",
    "                current_chars = {key}\n",
    "            if char in current_chars:\n",
    "                # current_len = len(current_chars)\n",
    "                max_len = max(len(current_chars),max_len)\n",
    "                current_chars = current_chars[current_chars.index(char)+1:]\n",
    "            current_chars.append(char)\n",
    "            print(current_chars,char,max_len)\n",
    "        return max(len(current_chars),max_len)\n",
    "s = \"dvdf\"\n",
    "obj = Solution()\n",
    "print(obj.lengthOfLongestSubstring(s))"
   ]
  },
  {
   "cell_type": "code",
   "execution_count": 72,
   "id": "4befc209",
   "metadata": {},
   "outputs": [
    {
     "name": "stdout",
     "output_type": "stream",
     "text": [
      "[1, 4, 5, 2, 3]\n"
     ]
    }
   ],
   "source": [
    "import random\n",
    "\n",
    "my_list = [1, 2, 3, 4, 5]\n",
    "random.shuffle(my_list)\n",
    "print(my_list)"
   ]
  },
  {
   "cell_type": "code",
   "execution_count": 71,
   "id": "fa76dbd4",
   "metadata": {},
   "outputs": [
    {
     "name": "stdout",
     "output_type": "stream",
     "text": [
      "{0: 0, 1: 1, 2: 2, 3: 3, 4: 4}\n",
      "[3, 4]\n"
     ]
    }
   ],
   "source": [
    "from pprint import pprint\n",
    "a = {i:i for i in range(5)}\n",
    "pprint(a)\n",
    "\n",
    "print(list(a.keys())[3:])"
   ]
  },
  {
   "cell_type": "code",
   "execution_count": 66,
   "id": "6bf3d95e",
   "metadata": {},
   "outputs": [
    {
     "name": "stdout",
     "output_type": "stream",
     "text": [
      "['d'] d 0\n",
      "['d', 'v'] v 0\n",
      "['v', 'd'] d 2\n",
      "['v', 'd', 'f'] f 2\n",
      "3\n"
     ]
    }
   ],
   "source": [
    "# from typing import Optional\n",
    "class Solution:\n",
    "    def lengthOfLongestSubstring(self, s: str) -> int:\n",
    "        current_chars = []\n",
    "        max_len = 0\n",
    "        split_s = list(s)\n",
    "        for char in s:\n",
    "            # char = split_s[index]\n",
    "            # print(current_chars,char,max_len)\n",
    "            if char in current_chars:\n",
    "                # current_len = len(current_chars)\n",
    "                max_len = max(len(current_chars),max_len)\n",
    "                current_chars = current_chars[current_chars.index(char)+1:]\n",
    "            current_chars.append(char)\n",
    "            print(current_chars,char,max_len)\n",
    "        return max(len(current_chars),max_len)\n",
    "s = \"dvdf\"\n",
    "obj = Solution()\n",
    "print(obj.lengthOfLongestSubstring(s))"
   ]
  },
  {
   "cell_type": "code",
   "execution_count": 54,
   "id": "c05f05d3",
   "metadata": {},
   "outputs": [
    {
     "ename": "ValueError",
     "evalue": "5 is not in list",
     "output_type": "error",
     "traceback": [
      "\u001b[31m---------------------------------------------------------------------------\u001b[39m",
      "\u001b[31mValueError\u001b[39m                                Traceback (most recent call last)",
      "\u001b[36mCell\u001b[39m\u001b[36m \u001b[39m\u001b[32mIn[54]\u001b[39m\u001b[32m, line 2\u001b[39m\n\u001b[32m      1\u001b[39m a = [\u001b[32m1\u001b[39m,\u001b[32m2\u001b[39m,\u001b[32m3\u001b[39m]\n\u001b[32m----> \u001b[39m\u001b[32m2\u001b[39m \u001b[43ma\u001b[49m\u001b[43m.\u001b[49m\u001b[43mindex\u001b[49m\u001b[43m(\u001b[49m\u001b[32;43m5\u001b[39;49m\u001b[43m)\u001b[49m\n",
      "\u001b[31mValueError\u001b[39m: 5 is not in list"
     ]
    }
   ],
   "source": [
    "a = [1,2,3]\n",
    "a.index(5)"
   ]
  },
  {
   "cell_type": "code",
   "execution_count": 49,
   "id": "2dfcb551",
   "metadata": {},
   "outputs": [
    {
     "ename": "ValueError",
     "evalue": "empty separator",
     "output_type": "error",
     "traceback": [
      "\u001b[31m---------------------------------------------------------------------------\u001b[39m",
      "\u001b[31mValueError\u001b[39m                                Traceback (most recent call last)",
      "\u001b[36mCell\u001b[39m\u001b[36m \u001b[39m\u001b[32mIn[49]\u001b[39m\u001b[32m, line 2\u001b[39m\n\u001b[32m      1\u001b[39m s = \u001b[33m\"\u001b[39m\u001b[33mdvdf\u001b[39m\u001b[33m\"\u001b[39m\n\u001b[32m----> \u001b[39m\u001b[32m2\u001b[39m \u001b[38;5;28mprint\u001b[39m(\u001b[43ms\u001b[49m\u001b[43m.\u001b[49m\u001b[43msplit\u001b[49m\u001b[43m(\u001b[49m\u001b[33;43m\"\u001b[39;49m\u001b[33;43m\"\u001b[39;49m\u001b[43m)\u001b[49m)\n",
      "\u001b[31mValueError\u001b[39m: empty separator"
     ]
    }
   ],
   "source": [
    "s = \"dvdf\"\n",
    "print(s.split(\"\"))"
   ]
  },
  {
   "cell_type": "code",
   "execution_count": null,
   "id": "02c02ec4",
   "metadata": {},
   "outputs": [
    {
     "name": "stdout",
     "output_type": "stream",
     "text": [
      "1\n"
     ]
    }
   ],
   "source": []
  },
  {
   "cell_type": "code",
   "execution_count": 35,
   "id": "03e6008f",
   "metadata": {},
   "outputs": [
    {
     "name": "stdout",
     "output_type": "stream",
     "text": [
      "2\n"
     ]
    }
   ],
   "source": [
    "for i in range(10):\n",
    "    if i ==2:\n",
    "        break\n",
    "print(i)"
   ]
  },
  {
   "cell_type": "code",
   "execution_count": 33,
   "id": "e296d509",
   "metadata": {},
   "outputs": [
    {
     "name": "stdout",
     "output_type": "stream",
     "text": [
      "1234\n"
     ]
    }
   ],
   "source": [
    "a=\"01234\"\n",
    "print(a[1:])"
   ]
  },
  {
   "cell_type": "code",
   "execution_count": null,
   "id": "8e2b89f8",
   "metadata": {},
   "outputs": [],
   "source": []
  },
  {
   "cell_type": "code",
   "execution_count": 23,
   "id": "e4df833f",
   "metadata": {},
   "outputs": [],
   "source": [
    "# Definition for singly-linked list.\n",
    "from typing import Optional\n",
    "class ListNode:\n",
    "    def __init__(self, val=0, next=None):\n",
    "        self.val = val\n",
    "        self.next = next\n",
    "class Solution:\n",
    "    def __init__(self):\n",
    "        # self.output_LL_head = ListNode(0)\n",
    "        # self.current_output_node = self.output_LL_head\n",
    "        self.carry = False\n",
    "        # self.output = \n",
    "\n",
    "    def addTwoNumbers(self, l1: Optional[ListNode], l2: Optional[ListNode]) -> Optional[ListNode]:\n",
    "        # try: \n",
    "        #     self.output\n",
    "        # except:\n",
    "        #     pass\n",
    "        sum = 1 if self.carry else 0\n",
    "        if l1:\n",
    "            sum+= l1.val\n",
    "            l1=l1.next\n",
    "        if l2:\n",
    "            sum+= l2.val\n",
    "            l2=l2.next\n",
    "        if sum>9:\n",
    "            item = sum-10\n",
    "            self.carry = True\n",
    "        else:\n",
    "            self.carry = False\n",
    "            item = sum\n",
    "        new_node = ListNode(item)\n",
    "        if l1 or l2 or self.carry:\n",
    "            new_node.next = self.addTwoNumbers(l1 = l1, l2 = l2)\n",
    "        else:\n",
    "            new_node.next = None\n",
    "        return new_node"
   ]
  },
  {
   "cell_type": "code",
   "execution_count": 24,
   "id": "e2f77081",
   "metadata": {},
   "outputs": [],
   "source": [
    "def linked_list_maker(input_list):\n",
    "    LL_head = ListNode(input_list[0])\n",
    "    current_node = LL_head\n",
    "    for item in input_list[1:]:\n",
    "        # Create a new node\n",
    "        new_node = ListNode(item)\n",
    "        # Link the current node to the new node\n",
    "        current_node.next = new_node\n",
    "        # Move the current node pointer forward\n",
    "        current_node = new_node\n",
    "    return LL_head\n",
    "\n",
    "def linked_list_printer(head):\n",
    "    current = head\n",
    "    while current:\n",
    "        print(current.val, end=\" -> \")\n",
    "        current = current.next\n",
    "    print(\"None\")"
   ]
  },
  {
   "cell_type": "code",
   "execution_count": 30,
   "id": "228bfd1d",
   "metadata": {},
   "outputs": [
    {
     "name": "stdout",
     "output_type": "stream",
     "text": [
      "0 -> None\n",
      "0 -> None\n"
     ]
    }
   ],
   "source": [
    "# l1 = [9,9,9,9,9,9,9]\n",
    "# l2 = [9,9,9,9]\n",
    "l1 = [0]\n",
    "l2 = [0]\n",
    "L_1 = linked_list_maker(l1)\n",
    "linked_list_printer(L_1)\n",
    "L_2 = linked_list_maker(l2)\n",
    "linked_list_printer(L_2)"
   ]
  },
  {
   "cell_type": "code",
   "execution_count": null,
   "id": "25ef6faf",
   "metadata": {},
   "outputs": [
    {
     "name": "stdout",
     "output_type": "stream",
     "text": [
      "0 -> None\n"
     ]
    }
   ],
   "source": [
    "sol_obj = Solution()\n",
    "sol_head = sol_obj.addTwoNumbers(L_1, L_2)\n",
    "linked_list_printer(sol_head)"
   ]
  },
  {
   "cell_type": "code",
   "execution_count": 3,
   "id": "7287598e",
   "metadata": {},
   "outputs": [],
   "source": [
    "l1 = ListNode(val=2, next=ListNode(val=4, next=ListNode(val=3, next=None)))\n",
    "l2 = ListNode(val=5, next=ListNode(val=6, next=ListNode(val=4, next=None)))"
   ]
  },
  {
   "cell_type": "code",
   "execution_count": null,
   "id": "9775a263",
   "metadata": {},
   "outputs": [
    {
     "name": "stdout",
     "output_type": "stream",
     "text": [
      "2 -> 4 -> 3 -> None\n",
      "5 -> 6 -> 4 -> None\n"
     ]
    }
   ],
   "source": [
    "\n"
   ]
  },
  {
   "cell_type": "code",
   "execution_count": null,
   "id": "ad115777",
   "metadata": {},
   "outputs": [
    {
     "name": "stdout",
     "output_type": "stream",
     "text": [
      "2 -> 4 -> 3 -> None\n",
      "5 -> 6 -> 4 -> None\n"
     ]
    }
   ],
   "source": []
  },
  {
   "cell_type": "code",
   "execution_count": null,
   "id": "bf03adc9",
   "metadata": {},
   "outputs": [
    {
     "data": {
      "text/plain": [
       "[7, 0, 8]"
      ]
     },
     "execution_count": 17,
     "metadata": {},
     "output_type": "execute_result"
    }
   ],
   "source": []
  },
  {
   "cell_type": "code",
   "execution_count": 6,
   "id": "4bee4e15",
   "metadata": {},
   "outputs": [
    {
     "name": "stdout",
     "output_type": "stream",
     "text": [
      "2\n",
      "4\n",
      "3\n",
      "5\n",
      "6\n",
      "4\n"
     ]
    }
   ],
   "source": [
    "while l1:\n",
    "    print(l1.val)\n",
    "    l1 = l1.next\n",
    "while l2:\n",
    "    print(l2.val)\n",
    "    l2 = l2.next"
   ]
  }
 ],
 "metadata": {
  "kernelspec": {
   "display_name": "base",
   "language": "python",
   "name": "python3"
  },
  "language_info": {
   "codemirror_mode": {
    "name": "ipython",
    "version": 3
   },
   "file_extension": ".py",
   "mimetype": "text/x-python",
   "name": "python",
   "nbconvert_exporter": "python",
   "pygments_lexer": "ipython3",
   "version": "3.12.11"
  }
 },
 "nbformat": 4,
 "nbformat_minor": 5
}
