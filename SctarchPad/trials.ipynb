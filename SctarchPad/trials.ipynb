{
 "cells": [
  {
   "cell_type": "code",
   "execution_count": 33,
   "id": "e4df833f",
   "metadata": {},
   "outputs": [],
   "source": [
    "from pprint import pprint"
   ]
  },
  {
   "cell_type": "code",
   "execution_count": 16,
   "id": "033a0107",
   "metadata": {},
   "outputs": [],
   "source": [
    "nums = [15,7,11,2]\n",
    "target = 9"
   ]
  },
  {
   "cell_type": "code",
   "execution_count": 17,
   "id": "abf626c3",
   "metadata": {},
   "outputs": [
    {
     "name": "stdout",
     "output_type": "stream",
     "text": [
      "[-6, 2, -2, 7]\n"
     ]
    }
   ],
   "source": [
    "# indexes = {i:nums[i] for i in range(len(nums))}\n",
    "new_nums = [target - x for x in nums]\n",
    "\n",
    "# print(new_nums)\n",
    "print(new_nums)"
   ]
  },
  {
   "cell_type": "code",
   "execution_count": 24,
   "id": "f51aa9a0",
   "metadata": {},
   "outputs": [
    {
     "name": "stdout",
     "output_type": "stream",
     "text": [
      "253 ns ± 8.69 ns per loop (mean ± std. dev. of 7 runs, 1,000,000 loops each)\n"
     ]
    }
   ],
   "source": [
    "%%timeit\n",
    "for index in range(len(nums)):\n",
    "    if new_nums[index] in nums:\n",
    "        if nums.index(new_nums[index]) != index:\n",
    "            # print([index, nums.index(new_nums[index])])\n",
    "            break"
   ]
  },
  {
   "cell_type": "code",
   "execution_count": 29,
   "id": "53d3a190",
   "metadata": {},
   "outputs": [
    {
     "name": "stdout",
     "output_type": "stream",
     "text": [
      "208 ns ± 9.77 ns per loop (mean ± std. dev. of 7 runs, 1,000,000 loops each)\n"
     ]
    }
   ],
   "source": [
    "%%timeit\n",
    "for index in range(len(nums)):\n",
    "    if new_nums[index] in nums and new_nums[index] != nums[index]:\n",
    "    # nums.index(new_nums[index]) != index:\n",
    "            # print([index, nums.index(new_nums[index])])\n",
    "            break"
   ]
  },
  {
   "cell_type": "code",
   "execution_count": null,
   "id": "13701119",
   "metadata": {},
   "outputs": [
    {
     "name": "stdout",
     "output_type": "stream",
     "text": [
      "222 ns ± 11.8 ns per loop (mean ± std. dev. of 7 runs, 1,000,000 loops each)\n"
     ]
    }
   ],
   "source": [
    "# %%timeit\n",
    "for index in range(len(nums)):\n",
    "    if new_nums[index] in nums and new_nums[index] != nums[index]:\n",
    "    # nums.index(new_nums[index]) != index:\n",
    "            print([index, nums.index(new_nums[index])])\n",
    "            break"
   ]
  },
  {
   "cell_type": "code",
   "execution_count": 28,
   "id": "51ec00fe",
   "metadata": {},
   "outputs": [
    {
     "name": "stdout",
     "output_type": "stream",
     "text": [
      "[1, 3]\n"
     ]
    }
   ],
   "source": [
    "# %%timeit\n",
    "for index in range(len(nums)):\n",
    "    if new_nums[index] in nums and new_nums[index] != nums[index]:\n",
    "    # nums.index(new_nums[index]) != index:\n",
    "            print([index, nums.index(new_nums[index])])\n",
    "            break"
   ]
  },
  {
   "cell_type": "code",
   "execution_count": null,
   "id": "b33fb965",
   "metadata": {},
   "outputs": [
    {
     "name": "stdout",
     "output_type": "stream",
     "text": [
      "295 ns ± 23.7 ns per loop (mean ± std. dev. of 7 runs, 1,000,000 loops each)\n"
     ]
    }
   ],
   "source": [
    "%%timeit\n",
    "nums_copy = {i: nums[i] for i in range(len(nums))}\n",
    "for index in range(len(nums)):\n",
    "    for i in range(index + 1, len(nums)):\n",
    "        if new_nums[index] == nums[i]:\n",
    "            print([index, i])\n",
    "            break\n",
    "    if new_nums[index] in nums_copy and new_nums[index] != nums[index]:\n",
    "    # nums.index(new_nums[index]) != index:\n",
    "            # print([index, nums.index(new_nums[index])])\n",
    "            break\n"
   ]
  },
  {
   "cell_type": "code",
   "execution_count": 35,
   "id": "af99fe79",
   "metadata": {},
   "outputs": [],
   "source": [
    "nums = [15, 7, 11, 2]\n",
    "target = 9"
   ]
  },
  {
   "cell_type": "code",
   "execution_count": 36,
   "id": "8cce6e80",
   "metadata": {},
   "outputs": [
    {
     "name": "stdout",
     "output_type": "stream",
     "text": [
      "404 ns ± 20.9 ns per loop (mean ± std. dev. of 7 runs, 1,000,000 loops each)\n"
     ]
    }
   ],
   "source": [
    "%%timeit\n",
    "num_to_index = {}\n",
    "for i, num in enumerate(nums):\n",
    "    complement = target - num\n",
    "    if complement in num_to_index:\n",
    "        # print([num_to_index[complement], i])\n",
    "        break\n",
    "    num_to_index[num] = i\n",
    "# pprint(num_to_index)"
   ]
  }
 ],
 "metadata": {
  "kernelspec": {
   "display_name": "base",
   "language": "python",
   "name": "python3"
  },
  "language_info": {
   "codemirror_mode": {
    "name": "ipython",
    "version": 3
   },
   "file_extension": ".py",
   "mimetype": "text/x-python",
   "name": "python",
   "nbconvert_exporter": "python",
   "pygments_lexer": "ipython3",
   "version": "3.12.11"
  }
 },
 "nbformat": 4,
 "nbformat_minor": 5
}
